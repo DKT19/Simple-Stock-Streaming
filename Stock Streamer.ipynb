{
 "cells": [
  {
   "cell_type": "code",
   "execution_count": null,
   "metadata": {
    "scrolled": true
   },
   "outputs": [],
   "source": [
    "from pyspark.sql import SparkSession\n",
    "from pyspark.conf import SparkConf\n",
    "from pyspark.sql.functions import *\n",
    "from pyspark.sql.types import *\n",
    "\n",
    "conf = SparkConf()\n",
    "\n",
    "spark = SparkSession.builder \\\n",
    "    .appName('Stock Streaming with Spark and Kafka') \\\n",
    "    .master('local[*]') \\\n",
    "    .config('spark.jars', 'file:///C://Tools//StructuredStreaming//spark-sql-kafka-0-10_2.11-2.4.0.jar,file:///C://Tools//StructuredStreaming//kafka-clients-1.1.0.jar') \\\n",
    "    .getOrCreate()\n",
    "\n",
    "spark.sparkContext.setLogLevel('ERROR')\n",
    "spark.conf.set(\"spark.sql.shuffle.partitions\", \"2\")\n",
    "\n",
    "df = spark.readStream \\\n",
    "    .format('kafka') \\\n",
    "    .option('kafka.bootstrap.servers', 'localhost:9092') \\\n",
    "    .option('subscribe', 'stockdata') \\\n",
    "    .option('startingOffsets', 'latest') \\\n",
    "    .load()\n",
    "\n",
    "# Convert messages to strings\n",
    "df_convert = df.selectExpr(\"CAST(key AS STRING)\", \"CAST(value AS STRING)\")\n",
    "\n",
    "# Explicitly set data structure\n",
    "df_structure = StructType() \\\n",
    "    .add('Symbol', StringType()) \\\n",
    "    .add('Company', StringType()) \\\n",
    "    .add('Price', StringType()) \\\n",
    "    .add('DayChange', StringType()) \\\n",
    "    .add('Time', StringType())\n",
    "\n",
    "df2 = df_convert.select(from_json(column('value'), df_structure))\n",
    "df2_flat = df2.select('jsontostructs(value).*')\n",
    "\n",
    "#query = df2_flat.writeStream \\\n",
    "#    .format('console') \\\n",
    "#    .outputMode('update') \\\n",
    "#    .trigger(processingTime = '60 seconds') \\\n",
    "#    .option('truncate', 'false') \\\n",
    "#    .start()\n",
    "\n",
    "output = df2_flat.writeStream \\\n",
    "    .format('csv') \\\n",
    "    .option('path', r'C:/Stock-Stream') \\\n",
    "    .option('checkpointLocation', r'C:/Tools/checkpointv03') \\\n",
    "    .queryName('StockStreamOut') \\\n",
    "    .outputMode(\"append\") \\\n",
    "    .trigger(processingTime = '60 seconds') \\\n",
    "    .start()\n",
    "\n",
    "#query.awaitTermination()\n",
    "output.awaitTermination()"
   ]
  },
  {
   "cell_type": "code",
   "execution_count": null,
   "metadata": {},
   "outputs": [],
   "source": []
  }
 ],
 "metadata": {
  "kernelspec": {
   "display_name": "Python 3.7 (datascience)",
   "language": "python",
   "name": "datascience"
  },
  "language_info": {
   "codemirror_mode": {
    "name": "ipython",
    "version": 3
   },
   "file_extension": ".py",
   "mimetype": "text/x-python",
   "name": "python",
   "nbconvert_exporter": "python",
   "pygments_lexer": "ipython3",
   "version": "3.7.3"
  }
 },
 "nbformat": 4,
 "nbformat_minor": 2
}
