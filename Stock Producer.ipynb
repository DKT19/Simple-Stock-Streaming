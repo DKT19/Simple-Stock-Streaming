{
 "cells": [
  {
   "cell_type": "code",
   "execution_count": null,
   "metadata": {},
   "outputs": [],
   "source": [
    "from kafka import KafkaProducer\n",
    "import datetime\n",
    "import schedule\n",
    "import requests\n",
    "import json\n",
    "import time\n",
    "\n",
    "# Access token\n",
    "token = '...'\n",
    "\n",
    "# API\n",
    "stock_symbols = 'AAPL,DIS,MSFT'\n",
    "url = 'https://api.worldtradingdata.com/api/v1/stock?symbol=' + stock_symbols + '&api_token=' + token\n",
    "producer = KafkaProducer(\n",
    "    bootstrap_servers = ['localhost:9092'], \n",
    "    value_serializer = lambda x: json.dumps(x).encode('utf-8')\n",
    ")\n",
    "\n",
    "def get_stock_data(url, topic_name):\n",
    "    try:\n",
    "        # Request data\n",
    "        response = requests.get(url)\n",
    "\n",
    "        # Determine if response is appropriate\n",
    "        response.raise_for_status()\n",
    "    except requests.exceptions.HTTPError as error:\n",
    "        print('Invalid response: {}'.format(error.response.status_code))\n",
    "        sys.exit(1)\n",
    "    \n",
    "    content = json.loads(response.text)\n",
    "    for i in range(0, len(content['data'])):\n",
    "        symbol = content['data'][i]['symbol']\n",
    "        company_name = content['data'][i]['name']\n",
    "        price = content['data'][i]['price']\n",
    "        day_change = content['data'][i]['day_change']\n",
    "        \n",
    "        # Create and send message\n",
    "        send_message = {'Symbol': symbol, 'Company': company_name, 'Price': price, 'DayChange': day_change, 'Time': time.strftime('%m-%d-%Y %H:%M:%S')}\n",
    "        producer.send(topic_name, send_message)\n",
    "        \n",
    "# Scheduler\n",
    "def job():\n",
    "    get_stock_data(url, 'stockdata')\n",
    "    \n",
    "schedule.every(1).minutes.do(job)\n",
    "\n",
    "start = datetime.time(9,30)\n",
    "close = datetime.time(22,0)\n",
    "\n",
    "while True:\n",
    "    if datetime.datetime.now().time() >= start and datetime.datetime.now().time() <= close:\n",
    "        schedule.run_pending()\n",
    "        time.sleep(1)"
   ]
  },
  {
   "cell_type": "code",
   "execution_count": null,
   "metadata": {},
   "outputs": [],
   "source": []
  }
 ],
 "metadata": {
  "kernelspec": {
   "display_name": "Python 3.7 (datascience)",
   "language": "python",
   "name": "datascience"
  },
  "language_info": {
   "codemirror_mode": {
    "name": "ipython",
    "version": 3
   },
   "file_extension": ".py",
   "mimetype": "text/x-python",
   "name": "python",
   "nbconvert_exporter": "python",
   "pygments_lexer": "ipython3",
   "version": "3.7.3"
  }
 },
 "nbformat": 4,
 "nbformat_minor": 2
}
